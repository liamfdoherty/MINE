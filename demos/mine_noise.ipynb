{
 "cells": [
  {
   "cell_type": "code",
   "execution_count": 1,
   "metadata": {},
   "outputs": [],
   "source": [
    "import torch\n",
    "import torch.nn as nn\n",
    "from torch.nn import *\n",
    "import torch.nn.functional as F\n",
    "from torchvision.models import resnet18\n",
    "from torchvision.transforms import transforms\n",
    "from torchvision.datasets import CIFAR10\n",
    "import numpy as np\n",
    "import sys; sys.path.append('..')\n",
    "from mine import MINE\n",
    "import matplotlib.pyplot as plt"
   ]
  },
  {
   "cell_type": "code",
   "execution_count": 2,
   "metadata": {},
   "outputs": [],
   "source": [
    "class AddGaussianNoise(object):\n",
    "    def __init__(self, mean = 0., std = 1.):\n",
    "        self.std = std\n",
    "        self.mean = mean\n",
    "    \n",
    "    def __call__(self, tensor):\n",
    "        return tensor + torch.randn(tensor.size())*self.std + self.mean\n",
    "    \n",
    "    def __repr__(self):\n",
    "        return self.__class__.__name__ + f'Mean = {self.mean}, Std = {self.std}'"
   ]
  },
  {
   "cell_type": "code",
   "execution_count": 3,
   "metadata": {},
   "outputs": [],
   "source": [
    "class Net(nn.Module):\n",
    "    def __init__(self):\n",
    "        super().__init__()\n",
    "        self.resnet = resnet18()\n",
    "        self.logits = nn.Linear(1000, 10)\n",
    "        self.mlp = nn.Sequential(\n",
    "            nn.Linear(20, 100),\n",
    "            nn.ELU(),\n",
    "            nn.Linear(100, 1024),\n",
    "            nn.ELU(),\n",
    "            nn.Linear(1024, 2048),\n",
    "            nn.ELU(),\n",
    "            nn.Linear(2048, 1024),\n",
    "            nn.ELU(),\n",
    "            nn.Linear(1024, 256),\n",
    "            nn.ELU(),\n",
    "            nn.Linear(256, 64),\n",
    "            nn.ELU(),\n",
    "            nn.Linear(64, 8),\n",
    "            nn.ELU(),\n",
    "            nn.Linear(8, 1)\n",
    "        )\n",
    "\n",
    "    def forward(self, x, y):\n",
    "        x = self.resnet(x)\n",
    "        x = self.logits(x)\n",
    "        fused = torch.cat((x, y), dim = 1)\n",
    "        out = self.mlp(fused)\n",
    "        return out"
   ]
  },
  {
   "cell_type": "code",
   "execution_count": 4,
   "metadata": {},
   "outputs": [
    {
     "name": "stdout",
     "output_type": "stream",
     "text": [
      "Noise level: 0.01\n",
      "Noise level: 0.03593813663804627\n",
      "Noise level: 0.1291549665014884\n",
      "Noise level: 0.464158883361278\n",
      "Noise level: 1.668100537200059\n",
      "Noise level: 5.994842503189409\n",
      "Noise level: 21.544346900318843\n",
      "Noise level: 77.42636826811277\n",
      "Noise level: 278.25594022071255\n",
      "Noise level: 1000.0\n"
     ]
    }
   ],
   "source": [
    "noise_levels = 10.0**np.linspace(-2, 3, 10)\n",
    "mi_values = []\n",
    "for noise_level in noise_levels:\n",
    "    print(f'Noise level: {noise_level}')\n",
    "    transform = transforms.Compose([\n",
    "        transforms.ToTensor(),\n",
    "        AddGaussianNoise(0., noise_level),\n",
    "        transforms.Normalize((0.5, 0.5, 0.5), (0.5, 0.5, 0.5))\n",
    "    ])\n",
    "    target_transform = transforms.Compose([\n",
    "        lambda x: torch.tensor(x),\n",
    "        lambda x: F.one_hot(x, num_classes = 10)\n",
    "    ])\n",
    "\n",
    "    batch_size = 512\n",
    "\n",
    "    trainset = CIFAR10(root = '~/datasets', train = True, transform = transform, target_transform = target_transform)\n",
    "    \n",
    "    epochs = 25\n",
    "    mine = MINE(Net, trainset)\n",
    "    mine_estimator, bounds, joint_scores, product_scores = mine.optimize(epochs = epochs, verbose = False)\n",
    "    mine_estimate = mine.estimate()\n",
    "    mi_values.append(mine_estimate)"
   ]
  },
  {
   "cell_type": "code",
   "execution_count": 5,
   "metadata": {},
   "outputs": [
    {
     "data": {
      "image/png": "[encoded data removed]",
      "text/plain": [
       "<Figure size 640x480 with 1 Axes>"
      ]
     },
     "metadata": {},
     "output_type": "display_data"
    }
   ],
   "source": [
    "plt.scatter(noise_levels, mi_values)\n",
    "plt.xscale('log')\n",
    "plt.xlabel('Noise Level')\n",
    "plt.ylabel('Mutual Information')\n",
    "plt.show()"
   ]
  },
  {
   "cell_type": "code",
   "execution_count": null,
   "metadata": {},
   "outputs": [],
   "source": []
  }
 ],
 "metadata": {
  "kernelspec": {
   "display_name": "Python 3",
   "language": "python",
   "name": "python3"
  },
  "language_info": {
   "codemirror_mode": {
    "name": "ipython",
    "version": 3
   },
   "file_extension": ".py",
   "mimetype": "text/x-python",
   "name": "python",
   "nbconvert_exporter": "python",
   "pygments_lexer": "ipython3",
   "version": "3.11.4"
  }
 },
 "nbformat": 4,
 "nbformat_minor": 2
}
